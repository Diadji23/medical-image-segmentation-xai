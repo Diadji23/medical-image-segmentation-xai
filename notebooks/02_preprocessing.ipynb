{
 "cells": [
  {
   "cell_type": "code",
   "execution_count": 16,
   "id": "b31a706d",
   "metadata": {},
   "outputs": [],
   "source": [
    "import os \n",
    "import matplotlib.pyplot as plt \n",
    "import numpy as np \n",
    "from tqdm import tqdm \n",
    "import cv2\n",
    "image_dir = \"data/raw/images\"\n",
    "masks_dir = \"data/raw/masks\"\n",
    "\n",
    "attributes = [ \"globules\", \"steaks\", \"negative_network\", \"milia_like_cyst\", \"pigment_network\"]"
   ]
  },
  {
   "cell_type": "markdown",
   "id": "c4be59bf",
   "metadata": {},
   "source": [
    "### Cet etape nous permet d'associer chaque image avec 5 masks "
   ]
  },
  {
   "cell_type": "code",
   "execution_count": 17,
   "id": "7623b2fd",
   "metadata": {},
   "outputs": [
    {
     "name": "stderr",
     "output_type": "stream",
     "text": [
      "  0%|                                                                                                        | 0/200 [00:00<?, ?it/s]"
     ]
    },
    {
     "name": "stderr",
     "output_type": "stream",
     "text": [
      "100%|██████████████████████████████████████████████████████████████████████████████████████████████| 200/200 [00:13<00:00, 14.89it/s]\n"
     ]
    }
   ],
   "source": [
    "img_size = (256, 256)  \n",
    "\n",
    "X_data = []\n",
    "y_data= []\n",
    "\n",
    "\n",
    "image_files = sorted(os.listdir(image_dir))\n",
    "\n",
    "for img_file in tqdm(image_files[:200]):\n",
    "    img_id = img_file.split(\".\")[0]\n",
    "    img_path = os.path.join(image_dir , img_file)\n",
    "\n",
    "    # lire et redimmensionner l image \n",
    "    img = cv2.imread(img_path)\n",
    "    img = cv2.resize(img , img_size)\n",
    "    img = img / 255.0 \n",
    "\n",
    "    X_data.append(img)\n",
    "\n",
    "    # on va mettre un mask global \n",
    "    mask_stack = []\n",
    "    for attr in attributes : \n",
    "        mask_path = os.path.join(masks_dir, f\"{img_id}_attribute_{attr}.png\")\n",
    "        if os.path.exists(mask_path):\n",
    "            mask = cv2.imread(mask_path, cv2.IMREAD_GRAYSCALE)\n",
    "            mask = cv2.resize(mask , img_size)\n",
    "            # on binarise les masques \n",
    "            mask = (mask > 127).astype(np.uint8)\n",
    "        else : \n",
    "            mask= np.zeros(img_size, dtype= np.uint8)\n",
    "\n",
    "        mask_stack.append(mask)\n",
    "    mask_stack= np.stack(mask_stack, axis= -1)  #( 256, 256 ,5)\n",
    "    y_data.append(mask_stack)"
   ]
  },
  {
   "cell_type": "code",
   "execution_count": 18,
   "id": "e5591a8b",
   "metadata": {},
   "outputs": [
    {
     "name": "stdout",
     "output_type": "stream",
     "text": [
      "(200, 256, 256, 3)\n",
      "(200, 256, 256, 5)\n"
     ]
    }
   ],
   "source": [
    "### petite verification de la fonction precédente\n",
    "\n",
    "X_data_arr = np.array(X_data)  \n",
    "y_data_arr = np.array(y_data)\n",
    "\n",
    "print(X_data_arr.shape) # \n",
    "\n",
    "print(y_data_arr.shape)"
   ]
  },
  {
   "cell_type": "markdown",
   "id": "4b1ea67b",
   "metadata": {},
   "source": [
    "### les dimmensions des images sont de 256*256 , 3 represente les canaux de couleurs (RGB)\n",
    "### "
   ]
  },
  {
   "cell_type": "code",
   "execution_count": 20,
   "id": "b0e86b35",
   "metadata": {},
   "outputs": [],
   "source": [
    "### on sauvegarde les données traitées dans \"data/Proccesed\"\n",
    "import numpy as np\n",
    "np.save(\"data/processed/X_data.npy\", X_data)\n",
    "np.save(\"data/processed/y_data.npy\", y_data)"
   ]
  },
  {
   "cell_type": "code",
   "execution_count": 23,
   "id": "5dab0aac",
   "metadata": {},
   "outputs": [
    {
     "name": "stdout",
     "output_type": "stream",
     "text": [
      "train size : (160, 256, 256, 3)\n",
      "val size : (20, 256, 256, 3)\n",
      "test size : (20, 256, 256, 3)\n"
     ]
    }
   ],
   "source": [
    "from sklearn.model_selection import train_test_split\n",
    "\n",
    "X_train , X_temp , y_train , y_temp = train_test_split(X_data , y_data , test_size= 0.2, random_state=42)\n",
    "\n",
    "X_val , X_test, y_val , y_test = train_test_split(X_temp , y_temp , test_size= 0.5 , random_state= 42)\n",
    "\n",
    "\n",
    "print(\"train size :\", np.array(X_train).shape)\n",
    "\n",
    "print(\"val size :\", np.array(X_val).shape)\n",
    "\n",
    "print(\"test size :\", np.array(X_test).shape)"
   ]
  }
 ],
 "metadata": {
  "kernelspec": {
   "display_name": "Python 3 (ipykernel)",
   "language": "python",
   "name": "python3"
  },
  "language_info": {
   "codemirror_mode": {
    "name": "ipython",
    "version": 3
   },
   "file_extension": ".py",
   "mimetype": "text/x-python",
   "name": "python",
   "nbconvert_exporter": "python",
   "pygments_lexer": "ipython3",
   "version": "3.12.3"
  }
 },
 "nbformat": 4,
 "nbformat_minor": 5
}
